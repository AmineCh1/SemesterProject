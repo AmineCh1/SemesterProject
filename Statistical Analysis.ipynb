{
 "cells": [
  {
   "cell_type": "code",
   "execution_count": 2,
   "metadata": {},
   "outputs": [],
   "source": [
    "import numpy as np \n",
    "import glob \n",
    "import matplotlib.pyplot as plt\n",
    "import pandas as pd \n",
    "import scipy.stats as st"
   ]
  },
  {
   "cell_type": "markdown",
   "metadata": {},
   "source": [
    "# Confidence Interval \n",
    "This function computes the confidence interval of a given range of scores entered by a subject. "
   ]
  },
  {
   "cell_type": "code",
   "execution_count": 3,
   "metadata": {},
   "outputs": [],
   "source": [
    "\n",
    "def confidence_interval(scores,conf_perc = 0.95):\n",
    "    nb_of_scores  = len(scores)\n",
    "    mean , standard_error = np.mean(scores), st.sem(scores)\n",
    "    width =  standard_error * st.t.ppf((1+conf_perc)/2,nb_of_scores-1)\n",
    "    return  width\n",
    "    \n",
    "\n",
    "    "
   ]
  },
  {
   "cell_type": "markdown",
   "metadata": {},
   "source": [
    "## Outlier detection \n",
    "This function detects outliers if there are any."
   ]
  },
  {
   "cell_type": "code",
   "execution_count": 4,
   "metadata": {
    "scrolled": false
   },
   "outputs": [],
   "source": [
    "def findOutliers(scoresTable): # scoreTable columns: ratings of all subjects per stimuli\n",
    "                               # scoreTable rows : ratings of all stimuli per subject   \n",
    "    \n",
    "    kurtosis = st.kurtosistest(scoresTable,1)[0]\n",
    "    upper=np.zeros(scoresTable.shape[1])\n",
    "    lower=np.zeros(scoresTable.shape[1])\n",
    "    stdcoeff = np.zeros(kurtosis.shape)\n",
    "    means = np.mean(scoresTable,1)\n",
    "    for idx,elem in enumerate(kurtosis):\n",
    "        if not(elem>2 and elem <4):\n",
    "            stdcoeff[idx] = np.sqrt(20)\n",
    "        else :\n",
    "            stdcoeff[idx]=2\n",
    "    for idx_stimuli, stimuli in enumerate(scoresTable): \n",
    "        for idx_subject, subject in enumerate(stimuli):\n",
    "            if scoresTable[idx_stimuli][idx_subject] > np.mean(scoresTable[idx_stimuli])+stdcoeff[idx_stimuli]*np.std(scoresTable[idx_stimuli]):\n",
    "                upper[idx_subject] += 1\n",
    "            if scoresTable[idx_stimuli][idx_subject] < np.mean(scoresTable[idx_stimuli])-stdcoeff[idx_stimuli]*np.std(scoresTable[idx_stimuli]):\n",
    "                lower[idx_subject] += 1\n",
    "    outliers_1 = (upper + lower)/scoresTable.shape[0]>0.05  \n",
    "    outliers_2 = np.abs((upper-lower)/(upper+lower))<0.3\n",
    "    outliers = outliers_1*outliers_2\n",
    "    return(outliers)\n",
    "    \n",
    "            \n",
    "    "
   ]
  },
  {
   "cell_type": "markdown",
   "metadata": {},
   "source": [
    "## File processing\n",
    "This section processes the results_0i.txt files, where results_0i.txt contains the answers of a subject for an entire experiment"
   ]
  },
  {
   "cell_type": "code",
   "execution_count": 6,
   "metadata": {},
   "outputs": [],
   "source": [
    "mos_std_amph = []\n",
    "mos_std_loot = []\n",
    "mos_std_long = []\n",
    "\n",
    "mos_std_bipl = [] "
   ]
  },
  {
   "cell_type": "code",
   "execution_count": 7,
   "metadata": {},
   "outputs": [
    {
     "name": "stdout",
     "output_type": "stream",
     "text": [
      "[]\n"
     ]
    },
    {
     "ename": "IndexError",
     "evalue": "tuple index out of range",
     "output_type": "error",
     "traceback": [
      "\u001b[0;31m---------------------------------------------------------------------------\u001b[0m",
      "\u001b[0;31mIndexError\u001b[0m                                Traceback (most recent call last)",
      "\u001b[0;32m<ipython-input-7-d0efbdf727b6>\u001b[0m in \u001b[0;36m<module>\u001b[0;34m\u001b[0m\n\u001b[1;32m      5\u001b[0m \u001b[0mvalues\u001b[0m  \u001b[0;34m=\u001b[0m \u001b[0mnp\u001b[0m\u001b[0;34m.\u001b[0m\u001b[0mconcatenate\u001b[0m\u001b[0;34m(\u001b[0m\u001b[0;34m(\u001b[0m\u001b[0mvalueamph\u001b[0m\u001b[0;34m,\u001b[0m\u001b[0mvaluelong\u001b[0m\u001b[0;34m,\u001b[0m\u001b[0mvalueloot\u001b[0m\u001b[0;34m,\u001b[0m\u001b[0mvaluebipl\u001b[0m\u001b[0;34m)\u001b[0m\u001b[0;34m)\u001b[0m\u001b[0;34m\u001b[0m\u001b[0;34m\u001b[0m\u001b[0m\n\u001b[1;32m      6\u001b[0m \u001b[0mprint\u001b[0m\u001b[0;34m(\u001b[0m\u001b[0mvalues\u001b[0m\u001b[0;34m)\u001b[0m\u001b[0;34m\u001b[0m\u001b[0;34m\u001b[0m\u001b[0m\n\u001b[0;32m----> 7\u001b[0;31m \u001b[0mfindOutliers\u001b[0m\u001b[0;34m(\u001b[0m\u001b[0mvalues\u001b[0m\u001b[0;34m)\u001b[0m\u001b[0;34m\u001b[0m\u001b[0;34m\u001b[0m\u001b[0m\n\u001b[0m",
      "\u001b[0;32m<ipython-input-4-97121bd3c155>\u001b[0m in \u001b[0;36mfindOutliers\u001b[0;34m(scoresTable)\u001b[0m\n\u001b[1;32m      2\u001b[0m                                \u001b[0;31m# scoreTable rows : ratings of all stimuli per subject\u001b[0m\u001b[0;34m\u001b[0m\u001b[0;34m\u001b[0m\u001b[0;34m\u001b[0m\u001b[0m\n\u001b[1;32m      3\u001b[0m \u001b[0;34m\u001b[0m\u001b[0m\n\u001b[0;32m----> 4\u001b[0;31m     \u001b[0mkurtosis\u001b[0m \u001b[0;34m=\u001b[0m \u001b[0mst\u001b[0m\u001b[0;34m.\u001b[0m\u001b[0mkurtosistest\u001b[0m\u001b[0;34m(\u001b[0m\u001b[0mscoresTable\u001b[0m\u001b[0;34m,\u001b[0m\u001b[0;36m1\u001b[0m\u001b[0;34m)\u001b[0m\u001b[0;34m[\u001b[0m\u001b[0;36m0\u001b[0m\u001b[0;34m]\u001b[0m\u001b[0;34m\u001b[0m\u001b[0;34m\u001b[0m\u001b[0m\n\u001b[0m\u001b[1;32m      5\u001b[0m     \u001b[0mupper\u001b[0m\u001b[0;34m=\u001b[0m\u001b[0mnp\u001b[0m\u001b[0;34m.\u001b[0m\u001b[0mzeros\u001b[0m\u001b[0;34m(\u001b[0m\u001b[0mscoresTable\u001b[0m\u001b[0;34m.\u001b[0m\u001b[0mshape\u001b[0m\u001b[0;34m[\u001b[0m\u001b[0;36m1\u001b[0m\u001b[0;34m]\u001b[0m\u001b[0;34m)\u001b[0m\u001b[0;34m\u001b[0m\u001b[0;34m\u001b[0m\u001b[0m\n\u001b[1;32m      6\u001b[0m     \u001b[0mlower\u001b[0m\u001b[0;34m=\u001b[0m\u001b[0mnp\u001b[0m\u001b[0;34m.\u001b[0m\u001b[0mzeros\u001b[0m\u001b[0;34m(\u001b[0m\u001b[0mscoresTable\u001b[0m\u001b[0;34m.\u001b[0m\u001b[0mshape\u001b[0m\u001b[0;34m[\u001b[0m\u001b[0;36m1\u001b[0m\u001b[0;34m]\u001b[0m\u001b[0;34m)\u001b[0m\u001b[0;34m\u001b[0m\u001b[0;34m\u001b[0m\u001b[0m\n",
      "\u001b[0;32m~/anaconda3/lib/python3.7/site-packages/scipy/stats/stats.py\u001b[0m in \u001b[0;36mkurtosistest\u001b[0;34m(a, axis, nan_policy)\u001b[0m\n\u001b[1;32m   1385\u001b[0m         \u001b[0;32mreturn\u001b[0m \u001b[0mmstats_basic\u001b[0m\u001b[0;34m.\u001b[0m\u001b[0mkurtosistest\u001b[0m\u001b[0;34m(\u001b[0m\u001b[0ma\u001b[0m\u001b[0;34m,\u001b[0m \u001b[0maxis\u001b[0m\u001b[0;34m)\u001b[0m\u001b[0;34m\u001b[0m\u001b[0;34m\u001b[0m\u001b[0m\n\u001b[1;32m   1386\u001b[0m \u001b[0;34m\u001b[0m\u001b[0m\n\u001b[0;32m-> 1387\u001b[0;31m     \u001b[0mn\u001b[0m \u001b[0;34m=\u001b[0m \u001b[0mfloat\u001b[0m\u001b[0;34m(\u001b[0m\u001b[0ma\u001b[0m\u001b[0;34m.\u001b[0m\u001b[0mshape\u001b[0m\u001b[0;34m[\u001b[0m\u001b[0maxis\u001b[0m\u001b[0;34m]\u001b[0m\u001b[0;34m)\u001b[0m\u001b[0;34m\u001b[0m\u001b[0;34m\u001b[0m\u001b[0m\n\u001b[0m\u001b[1;32m   1388\u001b[0m     \u001b[0;32mif\u001b[0m \u001b[0mn\u001b[0m \u001b[0;34m<\u001b[0m \u001b[0;36m5\u001b[0m\u001b[0;34m:\u001b[0m\u001b[0;34m\u001b[0m\u001b[0;34m\u001b[0m\u001b[0m\n\u001b[1;32m   1389\u001b[0m         raise ValueError(\n",
      "\u001b[0;31mIndexError\u001b[0m: tuple index out of range"
     ]
    }
   ],
   "source": []
  },
  {
   "cell_type": "code",
   "execution_count": 8,
   "metadata": {},
   "outputs": [],
   "source": [
    "files_Amph=glob.glob(\"Amphoriskos/*.txt\")\n",
    "files_Loot=glob.glob(\"Loot/*.txt\")\n",
    "files_Long=glob.glob(\"Longdress/*.txt\")\n",
    "files_bipl=glob.glob(\"Biplane/*.txt\")\n",
    "files_Amph.sort()\n",
    "files_Loot.sort()\n",
    "files_Long.sort()\n",
    "files_bipl.sort()"
   ]
  },
  {
   "cell_type": "code",
   "execution_count": 9,
   "metadata": {},
   "outputs": [],
   "source": [
    "all_files = [files_Amph,files_Loot,files_Long,files_bipl]"
   ]
  },
  {
   "cell_type": "code",
   "execution_count": 10,
   "metadata": {},
   "outputs": [],
   "source": [
    "all_files_flat = [elem  for item in all_files for elem in item ]"
   ]
  },
  {
   "cell_type": "code",
   "execution_count": 11,
   "metadata": {
    "scrolled": true
   },
   "outputs": [
    {
     "name": "stdout",
     "output_type": "stream",
     "text": [
      "[6, 4, 3, 2, 3, 1, 1, 1, 6]\n",
      "[7, 8, 7, 8, 7, 5, 5, 6, 7]\n",
      "[9, 9, 7, 8, 9, 7, 7, 7, 9]\n",
      "[9, 9, 7, 9, 9, 7, 9, 8, 9]\n",
      "[9, 9, 9, 9, 9, 9, 9, 8, 9]\n",
      "[1, 2, 1, 1, 3, 1, 1, 1, 1]\n",
      "[5, 7, 5, 5, 5, 1, 3, 3, 5]\n",
      "[8, 8, 7, 5, 7, 9, 7, 6, 8]\n",
      "[7, 9, 9, 8, 9, 9, 9, 9, 9]\n",
      "[9, 9, 9, 6, 9, 5, 9, 8, 9]\n",
      "----\n",
      "[1, 2, 2, 1, 1, 1, 1, 1, 1]\n",
      "[3, 5, 3, 1, 3, 3, 1, 1, 2]\n",
      "[6, 8, 7, 1, 7, 5, 3, 4, 8]\n",
      "[8, 8, 8, 8, 9, 7, 5, 7, 8]\n",
      "[9, 9, 9, 5, 9, 9, 9, 7, 9]\n",
      "[1, 2, 1, 1, 1, 1, 1, 1, 1]\n",
      "[1, 4, 3, 1, 1, 1, 1, 1, 1]\n",
      "[3, 7, 5, 2, 5, 3, 3, 1, 5]\n",
      "[7, 8, 7, 3, 7, 7, 3, 5, 8]\n",
      "[8, 9, 8, 7, 9, 9, 7, 7, 9]\n",
      "----\n",
      "[1, 2, 1, 1, 1, 1, 1, 1, 1]\n",
      "[2, 6, 3, 1, 5, 3, 1, 2, 3]\n",
      "[6, 7, 6, 3, 7, 5, 1, 4, 7]\n",
      "[7, 8, 8, 5, 9, 8, 5, 6, 8]\n",
      "[9, 9, 8, 9, 9, 9, 7, 7, 9]\n",
      "[1, 3, 1, 1, 1, 1, 1, 1, 1]\n",
      "[2, 4, 3, 2, 3, 1, 1, 1, 1]\n",
      "[3, 7, 5, 3, 3, 3, 1, 2, 5]\n",
      "[5, 8, 6, 3, 7, 7, 3, 5, 8]\n",
      "[7, 9, 9, 8, 9, 9, 7, 7, 8]\n",
      "----\n",
      "[2, 3, 1, 2, 1, 1, 1, 1, 2]\n",
      "[4, 6, 3, 3, 3, 1, 3, 5, 5]\n",
      "[7, 9, 7, 5, 7, 3, 5, 7, 7]\n",
      "[9, 9, 8, 4, 9, 7, 9, 8, 8]\n",
      "[9, 9, 8, 9, 9, 9, 9, 7, 9]\n",
      "[2, 3, 1, 1, 3, 1, 1, 1, 1]\n",
      "[6, 4, 3, 5, 5, 1, 3, 3, 7]\n",
      "[5, 9, 5, 7, 7, 8, 5, 5, 8]\n",
      "[9, 9, 9, 8, 9, 8, 7, 7, 9]\n",
      "[9, 9, 8, 9, 9, 8, 9, 9, 9]\n"
     ]
    }
   ],
   "source": [
    "for elem in files_Amph: \n",
    "    r = open(elem,'r')\n",
    "    values = r.readlines()\n",
    "    a = \"\".join(values)\n",
    "    b= a.split(\"\\n\")\n",
    "    b = np.delete(b,9)\n",
    "    b = list(map(lambda x : int(x),b))\n",
    "    mos_std_amph.append((elem,np.mean(b),np.std(b),confidence_interval(b),b))\n",
    "    print(b)\n",
    "    r.close()\n",
    "print(\"----\")\n",
    "for elem in files_Loot: \n",
    "    r = open(elem,'r')\n",
    "    values = r.readlines()\n",
    "    a = \"\".join(values)\n",
    "    b= a.split(\"\\n\")\n",
    "    b = np.delete(b,9)\n",
    "    b = list(map(lambda x : int(x),b))\n",
    "    mos_std_loot.append((elem,np.mean(b),np.std(b),confidence_interval(b),b))\n",
    "    print(b)\n",
    "    r.close()\n",
    "print(\"----\")   \n",
    "for elem in files_Long: \n",
    "    r = open(elem,'r')\n",
    "    values = r.readlines()\n",
    "    a = \"\".join(values)\n",
    "    b= a.split(\"\\n\")\n",
    "    b = np.delete(b,9)\n",
    "    b = list(map(lambda x : int(x),b))\n",
    "    mos_std_long.append((elem,np.mean(b),np.std(b),confidence_interval(b),b))\n",
    "    print(b)\n",
    "    r.close()\n",
    "print(\"----\")\n",
    "for elem in files_bipl: \n",
    "    r = open(elem,'r')\n",
    "    values = r.readlines()\n",
    "    a = \"\".join(values)\n",
    "    b= a.split(\"\\n\")\n",
    "    b = np.delete(b,9)\n",
    "    b = list(map(lambda x : int(x),b))\n",
    "    mos_std_bipl.append((elem,np.mean(b),np.std(b),confidence_interval(b),b))\n",
    "    print(b)\n",
    "    r.close() "
   ]
  },
  {
   "cell_type": "code",
   "execution_count": 12,
   "metadata": {
    "scrolled": true
   },
   "outputs": [],
   "source": [
    "mos_amph = list(map(lambda x : x[1],mos_std_amph))\n",
    "mos_amph_predlift=mos_amph[0:5]\n",
    "mos_amph_raht= mos_amph[5:10]\n",
    "\n",
    "mos_long = list(map(lambda x : x[1],mos_std_long))\n",
    "mos_long_predlift=mos_long[0:5]\n",
    "mos_long_raht= mos_long[5:10]\n",
    "\n",
    "mos_loot = list(map(lambda x : x[1],mos_std_loot))\n",
    "mos_loot_predlift=mos_loot[0:5]\n",
    "mos_loot_raht= mos_loot[5:10]\n",
    "\n",
    "mos_bipl = list(map(lambda x : x[1],mos_std_bipl))\n",
    "mos_bipl_predlift=mos_bipl[0:5]\n",
    "mos_bipl_raht= mos_bipl[5:10]\n",
    "\n",
    "\n",
    "bitrates_predlift_amph= pd.read_csv(\"bitrates/octree-predlift/tmc13_apsipa_amphoriskos_vox10_RD_geom_text_octree-predlift.csv\")['bpp'].tolist()\n",
    "bitrates_predlift_amph=bitrates_predlift_amph[0:5]\n",
    "\n",
    "bitrates_predlift_loot= pd.read_csv(\"bitrates/octree-predlift/tmc13_apsipa_loot_vox10_1200_RD_geom_text_octree-predlift.csv\")['bpp'].tolist()\n",
    "bitrates_predlift_loot=bitrates_predlift_loot[0:5]\n",
    "\n",
    "bitrates_predlift_longdress= pd.read_csv(\"bitrates/octree-predlift/tmc13_apsipa_longdress_vox10_1300_RD_geom_text_octree-predlift.csv\")['bpp'].tolist()\n",
    "bitrates_predlift_longdress=bitrates_predlift_longdress[0:5]\n",
    "\n",
    "bitrates_predlift_biplane= pd.read_csv(\"bitrates/octree-predlift/tmc13_apsipa_biplane_vox10_RD_geom_text_octree-predlift.csv\")['bpp'].tolist()\n",
    "bitrates_predlift_biplane=bitrates_predlift_biplane[0:5]\n",
    "\n",
    "std_amph = list(map(lambda x : x[2],mos_std_amph))\n",
    "std_amph_predlift=std_amph[0:5]\n",
    "std_amph_raht= std_amph[5:10]\n",
    "\n",
    "std_loot = list(map(lambda x : x[2],mos_std_amph))\n",
    "std_loot_predlift=std_loot[0:5]\n",
    "std_amph_raht= std_loot[5:10]\n",
    "\n",
    "std_long = list(map(lambda x : x[2],mos_std_amph))\n",
    "std_long_predlift=std_long[0:5]\n",
    "std_long_raht= std_long[5:10]\n",
    "\n",
    "std_bipl = list(map(lambda x : x[2],mos_std_amph))\n",
    "std_bipl_predlift=std_bipl[0:5]\n",
    "std_bipl_raht= std_bipl[5:10]\n",
    "\n",
    " \n",
    "ci_amph = list(map(lambda x : x[3],mos_std_amph))\n",
    "ci_amph_predlift=ci_amph[0:5]\n",
    "ci_amph_raht= ci_amph[5:10]\n",
    "\n",
    "ci_loot = list(map(lambda x : x[3],mos_std_amph))\n",
    "ci_loot_predlift=ci_loot[0:5]\n",
    "ci_loot_raht= ci_loot[5:10]\n",
    "\n",
    "ci_long = list(map(lambda x : x[3],mos_std_amph))\n",
    "ci_long_predlift=ci_long[0:5]\n",
    "ci_long_raht= ci_long[5:10]\n",
    "\n",
    "ci_bipl = list(map(lambda x : x[3],mos_std_amph))\n",
    "ci_bipl_predlift=ci_bipl[0:5]\n",
    "ci_bipl_raht= ci_bipl[5:10]"
   ]
  },
  {
   "cell_type": "code",
   "execution_count": 13,
   "metadata": {},
   "outputs": [
    {
     "name": "stdout",
     "output_type": "stream",
     "text": [
      "[[6 4 3 2 3 1 1 1 6]\n",
      " [7 8 7 8 7 5 5 6 7]\n",
      " [9 9 7 8 9 7 7 7 9]\n",
      " [9 9 7 9 9 7 9 8 9]\n",
      " [9 9 9 9 9 9 9 8 9]\n",
      " [1 2 1 1 3 1 1 1 1]\n",
      " [5 7 5 5 5 1 3 3 5]\n",
      " [8 8 7 5 7 9 7 6 8]\n",
      " [7 9 9 8 9 9 9 9 9]\n",
      " [9 9 9 6 9 5 9 8 9]\n",
      " [1 2 1 1 1 1 1 1 1]\n",
      " [2 6 3 1 5 3 1 2 3]\n",
      " [6 7 6 3 7 5 1 4 7]\n",
      " [7 8 8 5 9 8 5 6 8]\n",
      " [9 9 8 9 9 9 7 7 9]\n",
      " [1 3 1 1 1 1 1 1 1]\n",
      " [2 4 3 2 3 1 1 1 1]\n",
      " [3 7 5 3 3 3 1 2 5]\n",
      " [5 8 6 3 7 7 3 5 8]\n",
      " [7 9 9 8 9 9 7 7 8]\n",
      " [1 2 2 1 1 1 1 1 1]\n",
      " [3 5 3 1 3 3 1 1 2]\n",
      " [6 8 7 1 7 5 3 4 8]\n",
      " [8 8 8 8 9 7 5 7 8]\n",
      " [9 9 9 5 9 9 9 7 9]\n",
      " [1 2 1 1 1 1 1 1 1]\n",
      " [1 4 3 1 1 1 1 1 1]\n",
      " [3 7 5 2 5 3 3 1 5]\n",
      " [7 8 7 3 7 7 3 5 8]\n",
      " [8 9 8 7 9 9 7 7 9]\n",
      " [2 3 1 2 1 1 1 1 2]\n",
      " [4 6 3 3 3 1 3 5 5]\n",
      " [7 9 7 5 7 3 5 7 7]\n",
      " [9 9 8 4 9 7 9 8 8]\n",
      " [9 9 8 9 9 9 9 7 9]\n",
      " [2 3 1 1 3 1 1 1 1]\n",
      " [6 4 3 5 5 1 3 3 7]\n",
      " [5 9 5 7 7 8 5 5 8]\n",
      " [9 9 9 8 9 8 7 7 9]\n",
      " [9 9 8 9 9 8 9 9 9]]\n"
     ]
    },
    {
     "name": "stderr",
     "output_type": "stream",
     "text": [
      "/home/toad/anaconda3/lib/python3.7/site-packages/scipy/stats/stats.py:1394: UserWarning: kurtosistest only valid for n>=20 ... continuing anyway, n=9\n",
      "  \"anyway, n=%i\" % int(n))\n",
      "/home/toad/anaconda3/lib/python3.7/site-packages/ipykernel_launcher.py:21: RuntimeWarning: invalid value encountered in true_divide\n",
      "/home/toad/anaconda3/lib/python3.7/site-packages/ipykernel_launcher.py:21: RuntimeWarning: invalid value encountered in less\n"
     ]
    },
    {
     "data": {
      "text/plain": [
       "array([False, False, False, False, False, False, False, False, False])"
      ]
     },
     "execution_count": 13,
     "metadata": {},
     "output_type": "execute_result"
    }
   ],
   "source": [
    "valueamph = [elem[4] for elem in mos_std_amph]\n",
    "valuebipl = [elem[4] for elem in mos_std_bipl]\n",
    "valuelong = [elem[4] for elem in mos_std_long]\n",
    "valueloot = [elem[4] for elem in mos_std_loot]\n",
    "values  = np.concatenate((valueamph,valuelong,valueloot,valuebipl))\n",
    "print(values)\n",
    "findOutliers(values)"
   ]
  },
  {
   "cell_type": "code",
   "execution_count": 14,
   "metadata": {},
   "outputs": [],
   "source": [
    "bitrates_raht_amph = pd.read_csv(\"bitrates/octree-raht/tmc13_apsipa_amphoriskos_vox10_RD_geom_text_octree-raht.csv\")['bpp'].tolist()\n",
    "bitrates_raht_amph=bitrates_raht_amph[0:5]\n",
    "\n",
    "bitrates_raht_longdress = pd.read_csv(\"bitrates/octree-raht/tmc13_apsipa_longdress_vox10_1300_RD_geom_text_octree-raht.csv\")['bpp'].tolist()\n",
    "bitrates_raht_longdress=bitrates_raht_longdress[0:5]\n",
    "\n",
    "bitrates_raht_loot = pd.read_csv(\"bitrates/octree-raht/tmc13_apsipa_loot_vox10_1200_RD_geom_text_octree-raht.csv\")['bpp'].tolist()\n",
    "bitrates_raht_loot=bitrates_raht_loot[0:5]\n",
    "\n",
    "\n",
    "bitrates_raht_biplane = pd.read_csv(\"bitrates/octree-raht/tmc13_apsipa_biplane_vox10_RD_geom_text_octree-raht.csv\")['bpp'].tolist()\n",
    "bitrates_raht_biplane=bitrates_raht_biplane[0:5]"
   ]
  },
  {
   "cell_type": "markdown",
   "metadata": {},
   "source": [
    "## Data plotting\n",
    "Here, we plot the acquired, processed data"
   ]
  },
  {
   "cell_type": "code",
   "execution_count": 15,
   "metadata": {
    "scrolled": false
   },
   "outputs": [
    {
     "data": {
      "image/png": "[encoded data removed]",
      "text/plain": [
       "<Figure size 432x288 with 1 Axes>"
      ]
     },
     "metadata": {
      "needs_background": "light"
     },
     "output_type": "display_data"
    }
   ],
   "source": [
    "amph_plot = (plt.plot(bitrates_predlift_amph,mos_amph_predlift,\"r\",label = \"predlift\",marker='x'),plt.plot(bitrates_raht_amph,mos_amph_raht,\"b\",marker='x',label=\"raht\"))\n",
    "plt.legend(loc='upper left')\n",
    "plt.title('Amphoriskos')\n",
    "plt.xlabel(\"Bpp (Bits per point)\")\n",
    "plt.ylabel(\"MOS (Mean Opinion Score)\")\n",
    "\n",
    "plt.errorbar(bitrates_predlift_amph,mos_amph_predlift,yerr=ci_amph_predlift,color=\"r\",fmt='none')\n",
    "plt.errorbar(bitrates_raht_amph,mos_amph_raht,yerr=ci_amph_raht,color='b',fmt='none')\n",
    "\n",
    "plt.savefig(\"Amph.png\")"
   ]
  },
  {
   "cell_type": "code",
   "execution_count": 16,
   "metadata": {},
   "outputs": [
    {
     "data": {
      "image/png": "[encoded data removed]",
      "text/plain": [
       "<Figure size 432x288 with 1 Axes>"
      ]
     },
     "metadata": {
      "needs_background": "light"
     },
     "output_type": "display_data"
    }
   ],
   "source": [
    "biplane_plot=(plt.plot(bitrates_predlift_biplane,mos_bipl_predlift,\"r\",label='predlift',marker='x'),plt.plot(bitrates_raht_biplane,mos_bipl_raht,\"b\",marker='x',label='raht'))\n",
    "plt.legend(loc='upper left')\n",
    "plt.title(\"Biplane\")\n",
    "plt.xlabel(\"Bpp (Bits per point)\")\n",
    "plt.ylabel(\"MOS (Mean Opinion Score)\")\n",
    "plt.errorbar(bitrates_predlift_biplane,mos_bipl_predlift,yerr=ci_bipl_predlift,color=\"r\",fmt = 'none')\n",
    "plt.errorbar(bitrates_raht_biplane,mos_bipl_raht,yerr=ci_bipl_raht,color='b',fmt='none')\n",
    "plt.savefig(\"Bipl.png\")"
   ]
  },
  {
   "cell_type": "code",
   "execution_count": 17,
   "metadata": {
    "scrolled": true
   },
   "outputs": [
    {
     "data": {
      "image/png": "[encoded data removed]",
      "text/plain": [
       "<Figure size 432x288 with 1 Axes>"
      ]
     },
     "metadata": {
      "needs_background": "light"
     },
     "output_type": "display_data"
    }
   ],
   "source": [
    "longdress_plot=(plt.plot(bitrates_predlift_longdress,mos_long_predlift,\"r\",label='predlift',marker='x'),plt.plot(bitrates_raht_longdress,mos_long_raht,\"b\",label='raht',marker='x'))\n",
    "plt.legend(loc='upper left')\n",
    "plt.title(\"Longdress\")\n",
    "plt.xlabel(\"Bpp (Bits per point)\")\n",
    "plt.ylabel(\"MOS (Mean Opinion Score)\")\n",
    "plt.errorbar(bitrates_predlift_longdress,mos_long_predlift,yerr=ci_long_predlift,color='r',fmt='none')\n",
    "plt.errorbar(bitrates_raht_longdress,mos_long_raht,yerr=ci_long_raht,color='b',fmt='none')\n",
    "plt.savefig(\"Long.png\")"
   ]
  },
  {
   "cell_type": "code",
   "execution_count": 18,
   "metadata": {},
   "outputs": [
    {
     "data": {
      "image/png": "[encoded data removed]",
      "text/plain": [
       "<Figure size 432x288 with 1 Axes>"
      ]
     },
     "metadata": {
      "needs_background": "light"
     },
     "output_type": "display_data"
    }
   ],
   "source": [
    "loot_plot= (plt.plot(bitrates_predlift_loot,mos_loot_predlift,\"r\",label='predlift',marker='x'),plt.plot(bitrates_raht_loot,mos_loot_raht,\"b\",label='raht',marker='x'))\n",
    "plt.title(\"Loot\")\n",
    "plt.legend(loc='upper left')\n",
    "plt.xlabel(\"Bpp (Bits per point)\")\n",
    "plt.ylabel(\"MOS (Mean Opinion Score)\")\n",
    "plt.errorbar(bitrates_predlift_loot,mos_loot_predlift,yerr=ci_loot_predlift,color ='r')\n",
    "plt.errorbar(bitrates_raht_loot,mos_loot_raht,yerr=ci_loot_raht,color='b')\n",
    "plt.savefig(\"Loot.png\")"
   ]
  },
  {
   "cell_type": "code",
   "execution_count": null,
   "metadata": {},
   "outputs": [],
   "source": []
  }
 ],
 "metadata": {
  "kernelspec": {
   "display_name": "Python 3",
   "language": "python",
   "name": "python3"
  },
  "language_info": {
   "codemirror_mode": {
    "name": "ipython",
    "version": 3
   },
   "file_extension": ".py",
   "mimetype": "text/x-python",
   "name": "python",
   "nbconvert_exporter": "python",
   "pygments_lexer": "ipython3",
   "version": "3.7.1"
  }
 },
 "nbformat": 4,
 "nbformat_minor": 2
}
